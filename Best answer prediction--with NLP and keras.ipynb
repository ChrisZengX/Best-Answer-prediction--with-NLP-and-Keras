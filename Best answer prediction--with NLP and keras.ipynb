{
 "cells": [
  {
   "cell_type": "code",
   "execution_count": 1,
   "metadata": {},
   "outputs": [
    {
     "name": "stderr",
     "output_type": "stream",
     "text": [
      "Using TensorFlow backend.\n"
     ]
    }
   ],
   "source": [
    "import os\n",
    "import numpy as np\n",
    "import re\n",
    "import pickle\n",
    "import pandas as pd\n",
    "from datetime import datetime\n",
    "from gensim.corpora import Dictionary\n",
    "import matplotlib.pyplot as plt\n",
    "from nltk.stem.snowball import SnowballStemmer\n",
    "import nltk\n",
    "from bs4 import BeautifulSoup\n",
    "from contractions import contractions_dict\n",
    "import unicodedata\n",
    "import keras\n",
    "from collections import Counter\n",
    "import tensorflow as tf\n",
    "from sklearn.metrics import classification_report, roc_curve, auc\n",
    "from keras.preprocessing.text import Tokenizer\n",
    "from keras.models import Sequential, Model, load_model\n",
    "from keras.layers import Activation, Concatenate, Dense, Dropout, LSTM, Embedding, CuDNNLSTM, Input,  Flatten\n",
    "from keras.optimizers import Adamax, Adam\n",
    "from keras.preprocessing import sequence\n",
    "from sklearn.model_selection import train_test_split\n",
    "from sklearn import preprocessing"
   ]
  },
  {
   "cell_type": "code",
   "execution_count": 2,
   "metadata": {},
   "outputs": [],
   "source": [
    "field_names = ['id', 'type', 'is_best_answer', 'topic_id', 'parent_id', 'votes',\n",
    "               'title', 'content', 'member', 'category', 'state', 'is_solved', 'num_answers',\n",
    "               'country', 'date', 'last_answer_date', 'author_crc', 'visits']\n",
    "\n",
    "txt_path =\"QA/export-forums_en.csv\"\n",
    "entity_path =\"QA/export-forums_en.pickle\"\n",
    "csv_path = \"QA/export-forums_en.format.csv\"\n",
    "data_path = \"QA/\"\n",
    "extracted=\"QA/cleaned.csv\"\n",
    "train_final=\"QA/train_final.pickle\"\n",
    "test_final=\"QA/test_final.pickle\""
   ]
  },
  {
   "cell_type": "code",
   "execution_count": 3,
   "metadata": {},
   "outputs": [],
   "source": [
    "\n",
    "def format_entities():\n",
    "    '''\n",
    "    Read the raw data, format the list of entities, serialize them.\n",
    "    '''\n",
    "\n",
    "    def build_entities(txt_path, max_entities=None):\n",
    "        '''\n",
    "        Return a list of structured entities from raw txt file.\n",
    "        '''\n",
    "        # Read text file.\n",
    "        with open(txt_path, 'r', encoding='utf8') as f:\n",
    "            # Entities and current entity.\n",
    "            entities, entity = [], {}\n",
    "            # Entity values might be split over lines\n",
    "            field_counter = 0\n",
    "            # Process lines\n",
    "            for line in f:\n",
    "                # Prepare line\n",
    "                line = line.replace(\"\\\\N\", '\"unkwown\"')\n",
    "                # Char start for extracted value.\n",
    "                char_start = 1\n",
    "                # Find values separators\n",
    "                field_index = [m.start() for m in re.finditer('\",\"', line)]\n",
    "                # Browse value separators.\n",
    "                for index in field_index:\n",
    "                    # Extract in between value.\n",
    "                    value = line[char_start:index]\n",
    "                    # Update start index.\n",
    "                    char_start = index + 3\n",
    "                    # Update field counter.\n",
    "                    field_counter += 1\n",
    "                    # Update entity value.\n",
    "                    try:\n",
    "                        entity[field_names[field_counter-1]] += value\n",
    "                    except KeyError:\n",
    "                        entity[field_names[field_counter-1]] = value\n",
    "                    except IndexError:\n",
    "                        entity = {}\n",
    "                        field_counter = 0\n",
    "                # Content string is split.\n",
    "                if field_counter == 7 and len(field_index) > 0:\n",
    "                    entity[field_names[7]] = line[field_index[-1]:]\n",
    "                    continue\n",
    "                # Next content string.\n",
    "                if field_counter == 7 and len(field_index) == 0:\n",
    "                    entity[field_names[7]] += line\n",
    "                    continue\n",
    "                # Next entity.\n",
    "                if len(entity) == 17:\n",
    "                    field_counter = 0\n",
    "                    entities.append(entity)\n",
    "                    entity = {}\n",
    "                    if max_entities is not None:\n",
    "                        if len(entities) > max_entities:\n",
    "                            return entities\n",
    "        return entities\n",
    "    print()\n",
    "    # Write entities on disk.\n",
    "    with open(entity_path,'wb') as f:\n",
    "        pickle.dump(build_entities(txt_path=txt_path, max_entities=None), f)\n"
   ]
  },
  {
   "cell_type": "code",
   "execution_count": 4,
   "metadata": {},
   "outputs": [],
   "source": [
    "def entities_to_csv():\n",
    "    '''\n",
    "    Format entities to csv.\n",
    "    '''\n",
    "    with open(entity_path, 'rb') as obj:\n",
    "        entities = pickle.load(obj)\n",
    "    x = pd.DataFrame(entities)\n",
    "    x.to_csv(csv_path)\n"
   ]
  },
  {
   "cell_type": "code",
   "execution_count": 9,
   "metadata": {},
   "outputs": [
    {
     "name": "stdout",
     "output_type": "stream",
     "text": [
      "\n",
      "Entities:  715516\n",
      "Users:  230923\n",
      "Questions:  264962\n",
      "Answers:  328280\n",
      "Comments:  122274\n",
      "uq:  264962\n",
      "ua:  328280\n",
      "qa:  328280\n",
      "uc:  106063\n",
      "ca:  106063\n"
     ]
    }
   ],
   "source": [
    "if __name__ == '__main__':\n",
    "    format_entities()\n",
    "    entities_to_csv()"
   ]
  },
  {
   "cell_type": "markdown",
   "metadata": {},
   "source": [
    "# Use Random forest to caculate and choose other useful features"
   ]
  },
  {
   "cell_type": "code",
   "execution_count": 3,
   "metadata": {},
   "outputs": [],
   "source": [
    "from sklearn.ensemble import RandomForestClassifier\n",
    "from sklearn import datasets\n",
    "df=pd.read_csv(csv_path)\n",
    "# from sklearn.feature_selection import SelectFromModel\n",
    "feat_labels=df.drop([\"is_best_answer\",\"title\",\"content\",\"country\",\"type\",\"Unnamed: 0\"],axis=1).columns.values.tolist()\n",
    "# Create a random forest classifier\n",
    "clf = RandomForestClassifier(n_estimators=1000, random_state=0)"
   ]
  },
  {
   "cell_type": "code",
   "execution_count": 5,
   "metadata": {},
   "outputs": [
    {
     "name": "stdout",
     "output_type": "stream",
     "text": [
      "('id', 0.03291418718893231)\n",
      "('topic_id', 0.03543378831644127)\n",
      "('parent_id', 0.03454129532787189)\n",
      "('votes', 0.6157130959889361)\n",
      "('member', 0.026861053362471105)\n",
      "('category', 0.016593547306053898)\n",
      "('state', 0.04179451660779571)\n",
      "('is_solved', 0.02119736843792024)\n",
      "('num_answers', 0.08632357978728289)\n",
      "('date', 0.03174375374894221)\n",
      "('last_answer_date', 0.033322473870419915)\n",
      "('author_crc', 0.02356134005693237)\n"
     ]
    }
   ],
   "source": [
    "# Train the classifier\n",
    "X=df.loc[df[\"type\"]==\"A\"].drop([\"is_best_answer\",\"title\",\"content\",\"country\",\"type\",\"Unnamed: 0\"],axis=1)\n",
    "y=df.loc[df[\"type\"]==\"A\"][\"is_best_answer\"]\n",
    "clf.fit(X,y)\n",
    "# Print the name and gini importance of each feature\n",
    "for feature in zip(feat_labels, clf.feature_importances_):\n",
    "    print(feature)\n",
    "# will use \"votes\" \"num_answers\" \"state\" and \"country\""
   ]
  },
  {
   "cell_type": "markdown",
   "metadata": {},
   "source": [
    "# Extract useful data and apply Data cleaning\n",
    "Extract useful columns and merge comments, also generate 2 new columns: comments number belongs to certain answer, and standarlized date of an answer(standarlize by sequence of the answer)  \n",
    "Clean Data.   \n",
    "include Beautifulsoup(delete html tags),  \n",
    "remove accented chars, \n",
    "expand contractions,  \n",
    "delete puntuations and numbers and lowerecase,  \n",
    "delete redundant whitespace,  \n",
    "delete stopwords,   \n",
    "stemmer words  "
   ]
  },
  {
   "cell_type": "code",
   "execution_count": 9,
   "metadata": {},
   "outputs": [],
   "source": [
    "def extract_data():\n",
    "    #extract useful columns by answers, merge all the comments belong to certain answer\n",
    "    entities=pd.read_csv(csv_path)\n",
    "    entities['content'] = entities['content'].apply(lambda x: str(x)+\" \")\n",
    "    df=[]\n",
    "    for index, line in entities.iterrows():\n",
    "        if line[\"type\"]==\"A\":\n",
    "            #extract 'answer_id',\"title\",\"question\",'answer',\"comments\",'votes','num_answers',\"state\",\"country\" and \"best answer\"information\n",
    "            answer_id=line['id']\n",
    "            title=line['title']\n",
    "            question=entities[entities[\"id\"]==line['parent_id']][\"content\"].sum()\n",
    "            answer=line['content']\n",
    "            comments=entities[entities[\"parent_id\"] == line[\"id\"] ][\"content\"].sum()\n",
    "            votes=line['votes']\n",
    "            num_answers=line[\"num_answers\"]\n",
    "            state=line[\"state\"]\n",
    "            country=line[\"country\"]\n",
    "            is_best_answer=line[\"is_best_answer\"]\n",
    "            \n",
    "            #Calculate comment number of an answer\n",
    "            comment_number=len(entities[entities[\"parent_id\"] ==  line[\"id\"]])\n",
    "            \n",
    "            #Caculate answer time (standarlized)\n",
    "            lists=entities.loc[entities[\"parent_id\"] ==  line[\"parent_id\"]]\n",
    "            max_tmp = np.max(np.array(lists[\"date\"]))\n",
    "            min_tmp = np.min(np.array(lists[\"date\"]))\n",
    "            if (max_tmp != min_tmp):\n",
    "                lists[\"date\"] = lists[\"date\"].apply(lambda x: (x - min_tmp) / (max_tmp - min_tmp))\n",
    "                answer_time=lists[lists[\"id\"] == line[\"id\"] ].iloc[0,15]\n",
    "            else:\n",
    "                answer_time=0.5\n",
    "                \n",
    "            df.append([answer_id, title, question, answer, comments, votes, num_answers, state, country, comment_number, answer_time, is_best_answer])\n",
    "    df=pd.DataFrame(df,columns=['answer_id',\"title\",\"question\",'answer',\"comments\",'votes','num_answers',\"state\",\"country\", \"comment_number\", \"answer_time\",\"is_best_answer\"])\n",
    "    df.to_csv(extracted,index=False)"
   ]
  },
  {
   "cell_type": "code",
   "execution_count": 11,
   "metadata": {},
   "outputs": [],
   "source": [
    "def clean_data():\n",
    "    pd.options.mode.chained_assignment = None  # default='warn'\n",
    "    stemmer = SnowballStemmer(\"english\")\n",
    "    stop = nltk.corpus.stopwords.words('english')\n",
    "    stop.remove('no')\n",
    "    stop.remove('not')\n",
    "    stop.remove('but')\n",
    "    stop.append(\"br\")\n",
    "    stop.append(\"n\")\n",
    "    toktok = nltk.tokenize.toktok.ToktokTokenizer()\n",
    "    def expand_contractions(text, contraction_mapping=contractions_dict):\n",
    "    \n",
    "        contractions_pattern = re.compile('({})'.format('|'.join(contraction_mapping.keys())), \n",
    "                                          flags=re.IGNORECASE|re.DOTALL)\n",
    "        def expand_match(contraction):\n",
    "            match = contraction.group(0)\n",
    "            first_char = match[0]\n",
    "            expanded_contraction = contraction_mapping.get(match)\\\n",
    "                                    if contraction_mapping.get(match)\\\n",
    "                                    else contraction_mapping.get(match.lower())  \n",
    "            if expanded_contraction is None:\n",
    "                expanded_contraction=\"\"\n",
    "            else:\n",
    "                expanded_contraction = first_char+expanded_contraction[1:]\n",
    "            return expanded_contraction\n",
    "\n",
    "        expanded_text = contractions_pattern.sub(expand_match, text)\n",
    "        expanded_text = re.sub(\"'\", \"\", expanded_text)\n",
    "        return expanded_text\n",
    "    def remove_accented_chars(text):\n",
    "        text = unicodedata.normalize('NFKD', text).encode('ascii', 'ignore').decode('utf-8', 'ignore')\n",
    "        return text\n",
    "    \n",
    "    \n",
    "    df=pd.read_csv(extracted)\n",
    "    df[[\"title\", \"question\", \"answer\", \"comments\"]]=df[[\"title\", \"question\", \"answer\", \"comments\"]].astype(str)\n",
    "    for col_name in [\"title\", \"question\", \"answer\", \"comments\"]:\n",
    "        #delete html text/format\n",
    "        df[col_name] = df[col_name].apply(lambda x: BeautifulSoup(x, 'html.parser').get_text())\n",
    "        \n",
    "        #remove accented characters eg. \"Sómě Áccěntěd těxt\" to \"Some Accented text\"\n",
    "        df[col_name] = df[col_name].apply(lambda x: remove_accented_chars(x))\n",
    "        \n",
    "        # expand contracted words eg. \"we'll\" to \"we all\", \"you're\" to \"you are\"\n",
    "        df[col_name] = df[col_name].apply(lambda x: expand_contractions(str(x)))\n",
    "        \n",
    "        # delete puntuations\n",
    "        df[col_name].replace('[!\"#%\\'()*+,-./:;<=>?@\\[\\]^_`{|}~’”“′‘\\\\\\]',' ',inplace=True,regex=True)\n",
    "        \n",
    "        #delete numbers and certain formats and lowercase\n",
    "        df[col_name] = df[col_name].apply(lambda x: re.sub(r'[^a-zA-z\\s]', ' ', x).lower())\n",
    "        \n",
    "        #delete redundant whitespace\n",
    "        df[col_name] = df[col_name].apply(lambda x: re.sub(' +', ' ', x))\n",
    "        \n",
    "        #tokenizer\n",
    "        df[col_name] = df[col_name].apply(toktok.tokenize)\n",
    "        \n",
    "        # stemmer words and remove stop words\n",
    "        df[col_name] = df[col_name].apply(lambda x: [stemmer.stem(word) for word in x if word not in stop])\n",
    "        \n",
    "        #add whitespace between words\n",
    "        df[col_name] = df[col_name].apply(lambda x: \" \".join(x))\n",
    "        \n",
    "    #combine question and title content together as question\n",
    "    df[\"question\"]=df[\"title\"]+\" \"+df[\"question\"]\n",
    "    df.drop([\"title\"],axis=1,inplace=True)\n",
    "\n",
    "    df.to_csv(extracted,index=False)\n"
   ]
  },
  {
   "cell_type": "code",
   "execution_count": 12,
   "metadata": {
    "scrolled": true
   },
   "outputs": [
    {
     "name": "stderr",
     "output_type": "stream",
     "text": [
      "/opt/anaconda3/lib/python3.7/site-packages/bs4/__init__.py:294: UserWarning: \"b'/usr'\" looks like a filename, not markup. You should probably open this file and pass the filehandle into Beautiful Soup.\n",
      "  ' Beautiful Soup.' % markup)\n",
      "/opt/anaconda3/lib/python3.7/site-packages/bs4/__init__.py:357: UserWarning: \"http://xbadv.konqi.fr/\" looks like a URL. Beautiful Soup is not an HTTP client. You should probably use an HTTP client like requests to get the document behind the URL, and feed that document to Beautiful Soup.\n",
      "  ' that document to Beautiful Soup.' % decoded_markup\n",
      "/opt/anaconda3/lib/python3.7/site-packages/bs4/__init__.py:357: UserWarning: \"http://www.howto-convert.net\" looks like a URL. Beautiful Soup is not an HTTP client. You should probably use an HTTP client like requests to get the document behind the URL, and feed that document to Beautiful Soup.\n",
      "  ' that document to Beautiful Soup.' % decoded_markup\n",
      "/opt/anaconda3/lib/python3.7/site-packages/bs4/__init__.py:357: UserWarning: \"http://www.mtvvideoconverter.net/\" looks like a URL. Beautiful Soup is not an HTTP client. You should probably use an HTTP client like requests to get the document behind the URL, and feed that document to Beautiful Soup.\n",
      "  ' that document to Beautiful Soup.' % decoded_markup\n",
      "/opt/anaconda3/lib/python3.7/site-packages/bs4/__init__.py:357: UserWarning: \"http://www.aac-to-mp3-converter.com/\" looks like a URL. Beautiful Soup is not an HTTP client. You should probably use an HTTP client like requests to get the document behind the URL, and feed that document to Beautiful Soup.\n",
      "  ' that document to Beautiful Soup.' % decoded_markup\n",
      "/opt/anaconda3/lib/python3.7/site-packages/bs4/__init__.py:294: UserWarning: \"b'.'\" looks like a filename, not markup. You should probably open this file and pass the filehandle into Beautiful Soup.\n",
      "  ' Beautiful Soup.' % markup)\n",
      "/opt/anaconda3/lib/python3.7/site-packages/bs4/__init__.py:357: UserWarning: \"http://www.speedtest.net/result/1777259369.pn\" looks like a URL. Beautiful Soup is not an HTTP client. You should probably use an HTTP client like requests to get the document behind the URL, and feed that document to Beautiful Soup.\n",
      "  ' that document to Beautiful Soup.' % decoded_markup\n",
      "/opt/anaconda3/lib/python3.7/site-packages/bs4/__init__.py:357: UserWarning: \"http://en.kioskea.net/contents/ccmguide/ccmcharte.php3\" looks like a URL. Beautiful Soup is not an HTTP client. You should probably use an HTTP client like requests to get the document behind the URL, and feed that document to Beautiful Soup.\n",
      "  ' that document to Beautiful Soup.' % decoded_markup\n",
      "/opt/anaconda3/lib/python3.7/site-packages/bs4/__init__.py:357: UserWarning: \"http://www.ar-kane.com/\" looks like a URL. Beautiful Soup is not an HTTP client. You should probably use an HTTP client like requests to get the document behind the URL, and feed that document to Beautiful Soup.\n",
      "  ' that document to Beautiful Soup.' % decoded_markup\n",
      "/opt/anaconda3/lib/python3.7/site-packages/bs4/__init__.py:357: UserWarning: \"https://www.facebook.com/\" looks like a URL. Beautiful Soup is not an HTTP client. You should probably use an HTTP client like requests to get the document behind the URL, and feed that document to Beautiful Soup.\n",
      "  ' that document to Beautiful Soup.' % decoded_markup\n",
      "/opt/anaconda3/lib/python3.7/site-packages/bs4/__init__.py:357: UserWarning: \"http://ccm.net/contents/695-mobile-telephony\" looks like a URL. Beautiful Soup is not an HTTP client. You should probably use an HTTP client like requests to get the document behind the URL, and feed that document to Beautiful Soup.\n",
      "  ' that document to Beautiful Soup.' % decoded_markup\n",
      "/opt/anaconda3/lib/python3.7/site-packages/bs4/__init__.py:357: UserWarning: \"https://www.facebook.com/profile.php?id=100012092625375&amp;ref=ts&amp;f\" looks like a URL. Beautiful Soup is not an HTTP client. You should probably use an HTTP client like requests to get the document behind the URL, and feed that document to Beautiful Soup.\n",
      "  ' that document to Beautiful Soup.' % decoded_markup\n",
      "/opt/anaconda3/lib/python3.7/site-packages/bs4/__init__.py:357: UserWarning: \"https://www.facebook.com/mukre.husen.1?fref=ts\" looks like a URL. Beautiful Soup is not an HTTP client. You should probably use an HTTP client like requests to get the document behind the URL, and feed that document to Beautiful Soup.\n",
      "  ' that document to Beautiful Soup.' % decoded_markup\n",
      "/opt/anaconda3/lib/python3.7/site-packages/bs4/__init__.py:357: UserWarning: \"http://ccm.net/forum/affich-951823-forgot-gmail-password-lost-re\" looks like a URL. Beautiful Soup is not an HTTP client. You should probably use an HTTP client like requests to get the document behind the URL, and feed that document to Beautiful Soup.\n",
      "  ' that document to Beautiful Soup.' % decoded_markup\n",
      "/opt/anaconda3/lib/python3.7/site-packages/bs4/__init__.py:357: UserWarning: \"https://ln.sync.com/dl/c06f78370/d9emd847-r8xthts8-bsh5msi7-pspb\" looks like a URL. Beautiful Soup is not an HTTP client. You should probably use an HTTP client like requests to get the document behind the URL, and feed that document to Beautiful Soup.\n",
      "  ' that document to Beautiful Soup.' % decoded_markup\n",
      "/opt/anaconda3/lib/python3.7/site-packages/bs4/__init__.py:357: UserWarning: \"https://www.facebook.com/profile.php?id=100007869468773\" looks like a URL. Beautiful Soup is not an HTTP client. You should probably use an HTTP client like requests to get the document behind the URL, and feed that document to Beautiful Soup.\n",
      "  ' that document to Beautiful Soup.' % decoded_markup\n",
      "/opt/anaconda3/lib/python3.7/site-packages/bs4/__init__.py:357: UserWarning: \"https://www.facebook.com/profile.php?id=100019131885753\" looks like a URL. Beautiful Soup is not an HTTP client. You should probably use an HTTP client like requests to get the document behind the URL, and feed that document to Beautiful Soup.\n",
      "  ' that document to Beautiful Soup.' % decoded_markup\n",
      "/opt/anaconda3/lib/python3.7/site-packages/bs4/__init__.py:357: UserWarning: \"http://downloadare.com\" looks like a URL. Beautiful Soup is not an HTTP client. You should probably use an HTTP client like requests to get the document behind the URL, and feed that document to Beautiful Soup.\n",
      "  ' that document to Beautiful Soup.' % decoded_markup\n",
      "/opt/anaconda3/lib/python3.7/site-packages/bs4/__init__.py:357: UserWarning: \"http://ccm.net/forum/affich-643377-facebook-accoun\" looks like a URL. Beautiful Soup is not an HTTP client. You should probably use an HTTP client like requests to get the document behind the URL, and feed that document to Beautiful Soup.\n",
      "  ' that document to Beautiful Soup.' % decoded_markup\n",
      "/opt/anaconda3/lib/python3.7/site-packages/bs4/__init__.py:357: UserWarning: \"https://instagram.com\" looks like a URL. Beautiful Soup is not an HTTP client. You should probably use an HTTP client like requests to get the document behind the URL, and feed that document to Beautiful Soup.\n",
      "  ' that document to Beautiful Soup.' % decoded_markup\n",
      "/opt/anaconda3/lib/python3.7/site-packages/bs4/__init__.py:357: UserWarning: \"https://www.facebook.com/toto.fares.353\" looks like a URL. Beautiful Soup is not an HTTP client. You should probably use an HTTP client like requests to get the document behind the URL, and feed that document to Beautiful Soup.\n",
      "  ' that document to Beautiful Soup.' % decoded_markup\n"
     ]
    }
   ],
   "source": [
    "if __name__ == '__main__':\n",
    "    extract_data()\n",
    "    clean_data()"
   ]
  },
  {
   "cell_type": "code",
   "execution_count": 36,
   "metadata": {},
   "outputs": [
    {
     "data": {
      "text/html": [
       "<div>\n",
       "<style scoped>\n",
       "    .dataframe tbody tr th:only-of-type {\n",
       "        vertical-align: middle;\n",
       "    }\n",
       "\n",
       "    .dataframe tbody tr th {\n",
       "        vertical-align: top;\n",
       "    }\n",
       "\n",
       "    .dataframe thead th {\n",
       "        text-align: right;\n",
       "    }\n",
       "</style>\n",
       "<table border=\"1\" class=\"dataframe\">\n",
       "  <thead>\n",
       "    <tr style=\"text-align: right;\">\n",
       "      <th></th>\n",
       "      <th>answer_id</th>\n",
       "      <th>question</th>\n",
       "      <th>answer</th>\n",
       "      <th>comments</th>\n",
       "      <th>votes</th>\n",
       "      <th>num_answers</th>\n",
       "      <th>state</th>\n",
       "      <th>country</th>\n",
       "      <th>comment_number</th>\n",
       "      <th>answer_time</th>\n",
       "      <th>is_best_answer</th>\n",
       "    </tr>\n",
       "  </thead>\n",
       "  <tbody>\n",
       "    <tr>\n",
       "      <td>0</td>\n",
       "      <td>13</td>\n",
       "      <td>window vista xp downgrad reformat hello bought...</td>\n",
       "      <td>not think lie one downgrad would mean take awa...</td>\n",
       "      <td>stupidest post world go delet os use network f...</td>\n",
       "      <td>0</td>\n",
       "      <td>180</td>\n",
       "      <td>1</td>\n",
       "      <td>FR</td>\n",
       "      <td>9</td>\n",
       "      <td>0.000000</td>\n",
       "      <td>0</td>\n",
       "    </tr>\n",
       "    <tr>\n",
       "      <td>1</td>\n",
       "      <td>47</td>\n",
       "      <td>window vista xp downgrad reformat hello bought...</td>\n",
       "      <td>well alway downgrad window vista xp but everyt...</td>\n",
       "      <td>hp laptop dv tu vista but want xp load but dri...</td>\n",
       "      <td>-1</td>\n",
       "      <td>180</td>\n",
       "      <td>1</td>\n",
       "      <td>unkwown</td>\n",
       "      <td>3</td>\n",
       "      <td>0.006382</td>\n",
       "      <td>0</td>\n",
       "    </tr>\n",
       "    <tr>\n",
       "      <td>2</td>\n",
       "      <td>3062</td>\n",
       "      <td>window vista xp downgrad reformat hello bought...</td>\n",
       "      <td>j ust done thing hp dv operatingsystem got dri...</td>\n",
       "      <td>put two os one laptop mayb way email id remov ...</td>\n",
       "      <td>-1</td>\n",
       "      <td>180</td>\n",
       "      <td>1</td>\n",
       "      <td>unkwown</td>\n",
       "      <td>1</td>\n",
       "      <td>0.079603</td>\n",
       "      <td>0</td>\n",
       "    </tr>\n",
       "    <tr>\n",
       "      <td>3</td>\n",
       "      <td>3701</td>\n",
       "      <td>window vista xp downgrad reformat hello bought...</td>\n",
       "      <td>aquir brand new hp pavilion dv want run xp not...</td>\n",
       "      <td>NaN</td>\n",
       "      <td>-1</td>\n",
       "      <td>180</td>\n",
       "      <td>1</td>\n",
       "      <td>unkwown</td>\n",
       "      <td>0</td>\n",
       "      <td>0.086933</td>\n",
       "      <td>0</td>\n",
       "    </tr>\n",
       "    <tr>\n",
       "      <td>4</td>\n",
       "      <td>3844</td>\n",
       "      <td>window vista xp downgrad reformat hello bought...</td>\n",
       "      <td>dv driver xp http h www hp com</td>\n",
       "      <td>lot thank man havsom work great hp pavilion dv...</td>\n",
       "      <td>17</td>\n",
       "      <td>180</td>\n",
       "      <td>1</td>\n",
       "      <td>LT</td>\n",
       "      <td>4</td>\n",
       "      <td>0.088318</td>\n",
       "      <td>1</td>\n",
       "    </tr>\n",
       "    <tr>\n",
       "      <td>...</td>\n",
       "      <td>...</td>\n",
       "      <td>...</td>\n",
       "      <td>...</td>\n",
       "      <td>...</td>\n",
       "      <td>...</td>\n",
       "      <td>...</td>\n",
       "      <td>...</td>\n",
       "      <td>...</td>\n",
       "      <td>...</td>\n",
       "      <td>...</td>\n",
       "      <td>...</td>\n",
       "    </tr>\n",
       "    <tr>\n",
       "      <td>328275</td>\n",
       "      <td>1081081</td>\n",
       "      <td>unblock return enabl account ib fb pleas order...</td>\n",
       "      <td>uw</td>\n",
       "      <td>NaN</td>\n",
       "      <td>0</td>\n",
       "      <td>1</td>\n",
       "      <td>0</td>\n",
       "      <td>unkwown</td>\n",
       "      <td>0</td>\n",
       "      <td>1.000000</td>\n",
       "      <td>0</td>\n",
       "    </tr>\n",
       "    <tr>\n",
       "      <td>328276</td>\n",
       "      <td>1081069</td>\n",
       "      <td>unblock return enabl account ib fb pleas order...</td>\n",
       "      <td>hi not chanc order account unblock not facebook</td>\n",
       "      <td>NaN</td>\n",
       "      <td>0</td>\n",
       "      <td>1</td>\n",
       "      <td>1</td>\n",
       "      <td>unkwown</td>\n",
       "      <td>0</td>\n",
       "      <td>0.000000</td>\n",
       "      <td>0</td>\n",
       "    </tr>\n",
       "    <tr>\n",
       "      <td>328277</td>\n",
       "      <td>1081097</td>\n",
       "      <td>gmail account account passwod lost give password</td>\n",
       "      <td>sorri ccm net not gmail not give password gmail</td>\n",
       "      <td>NaN</td>\n",
       "      <td>0</td>\n",
       "      <td>1</td>\n",
       "      <td>1</td>\n",
       "      <td>unkwown</td>\n",
       "      <td>0</td>\n",
       "      <td>0.500000</td>\n",
       "      <td>0</td>\n",
       "    </tr>\n",
       "    <tr>\n",
       "      <td>328278</td>\n",
       "      <td>1081095</td>\n",
       "      <td>pc problem hello pc run fine pc switch but pc ...</td>\n",
       "      <td>pleas explain make monitor keyboard mous make ...</td>\n",
       "      <td>NaN</td>\n",
       "      <td>0</td>\n",
       "      <td>1</td>\n",
       "      <td>1</td>\n",
       "      <td>unkwown</td>\n",
       "      <td>0</td>\n",
       "      <td>0.500000</td>\n",
       "      <td>0</td>\n",
       "    </tr>\n",
       "    <tr>\n",
       "      <td>328279</td>\n",
       "      <td>1081100</td>\n",
       "      <td>face book problem view face book account</td>\n",
       "      <td>um ypu wear sunglass guess shpuld contini gues...</td>\n",
       "      <td>NaN</td>\n",
       "      <td>0</td>\n",
       "      <td>1</td>\n",
       "      <td>1</td>\n",
       "      <td>unkwown</td>\n",
       "      <td>0</td>\n",
       "      <td>0.500000</td>\n",
       "      <td>0</td>\n",
       "    </tr>\n",
       "  </tbody>\n",
       "</table>\n",
       "<p>328280 rows × 11 columns</p>\n",
       "</div>"
      ],
      "text/plain": [
       "        answer_id                                           question  \\\n",
       "0              13  window vista xp downgrad reformat hello bought...   \n",
       "1              47  window vista xp downgrad reformat hello bought...   \n",
       "2            3062  window vista xp downgrad reformat hello bought...   \n",
       "3            3701  window vista xp downgrad reformat hello bought...   \n",
       "4            3844  window vista xp downgrad reformat hello bought...   \n",
       "...           ...                                                ...   \n",
       "328275    1081081  unblock return enabl account ib fb pleas order...   \n",
       "328276    1081069  unblock return enabl account ib fb pleas order...   \n",
       "328277    1081097   gmail account account passwod lost give password   \n",
       "328278    1081095  pc problem hello pc run fine pc switch but pc ...   \n",
       "328279    1081100           face book problem view face book account   \n",
       "\n",
       "                                                   answer  \\\n",
       "0       not think lie one downgrad would mean take awa...   \n",
       "1       well alway downgrad window vista xp but everyt...   \n",
       "2       j ust done thing hp dv operatingsystem got dri...   \n",
       "3       aquir brand new hp pavilion dv want run xp not...   \n",
       "4                          dv driver xp http h www hp com   \n",
       "...                                                   ...   \n",
       "328275                                                 uw   \n",
       "328276    hi not chanc order account unblock not facebook   \n",
       "328277    sorri ccm net not gmail not give password gmail   \n",
       "328278  pleas explain make monitor keyboard mous make ...   \n",
       "328279  um ypu wear sunglass guess shpuld contini gues...   \n",
       "\n",
       "                                                 comments  votes  num_answers  \\\n",
       "0       stupidest post world go delet os use network f...      0          180   \n",
       "1       hp laptop dv tu vista but want xp load but dri...     -1          180   \n",
       "2       put two os one laptop mayb way email id remov ...     -1          180   \n",
       "3                                                     NaN     -1          180   \n",
       "4       lot thank man havsom work great hp pavilion dv...     17          180   \n",
       "...                                                   ...    ...          ...   \n",
       "328275                                                NaN      0            1   \n",
       "328276                                                NaN      0            1   \n",
       "328277                                                NaN      0            1   \n",
       "328278                                                NaN      0            1   \n",
       "328279                                                NaN      0            1   \n",
       "\n",
       "        state  country  comment_number  answer_time  is_best_answer  \n",
       "0           1       FR               9     0.000000               0  \n",
       "1           1  unkwown               3     0.006382               0  \n",
       "2           1  unkwown               1     0.079603               0  \n",
       "3           1  unkwown               0     0.086933               0  \n",
       "4           1       LT               4     0.088318               1  \n",
       "...       ...      ...             ...          ...             ...  \n",
       "328275      0  unkwown               0     1.000000               0  \n",
       "328276      1  unkwown               0     0.000000               0  \n",
       "328277      1  unkwown               0     0.500000               0  \n",
       "328278      1  unkwown               0     0.500000               0  \n",
       "328279      1  unkwown               0     0.500000               0  \n",
       "\n",
       "[328280 rows x 11 columns]"
      ]
     },
     "execution_count": 36,
     "metadata": {},
     "output_type": "execute_result"
    }
   ],
   "source": [
    "df=pd.read_csv(extracted)\n",
    "df"
   ]
  },
  {
   "cell_type": "markdown",
   "metadata": {},
   "source": [
    "# Text embedding\n",
    "We first check the total vocabular of questions, answers and comments, and decide the vocab_size and other feature numbers  \n",
    "Then split the data to train and test(make sure the model's dictionary didn't come from the test data)  \n",
    "Then tokenizer all 3 texts(questions, answers, comments)   \n",
    "And combine them to a auxiliary dataset with 5 column"
   ]
  },
  {
   "cell_type": "code",
   "execution_count": 41,
   "metadata": {},
   "outputs": [
    {
     "name": "stdout",
     "output_type": "stream",
     "text": [
      "90681\n",
      "91954\n",
      "44100\n"
     ]
    }
   ],
   "source": [
    "textq=[]\n",
    "texta=[]\n",
    "textc=[]\n",
    "toktok = nltk.tokenize.toktok.ToktokTokenizer()\n",
    "for index, line in df.iterrows():\n",
    "    textq+=toktok.tokenize(line[\"question\"])\n",
    "    texta+=toktok.tokenize(line[\"answer\"])\n",
    "    textc+=toktok.tokenize(line[\"comments\"])\n",
    "print(len(Counter(textq)))\n",
    "print(len(Counter(texta)))\n",
    "print(len(Counter(textc)))"
   ]
  },
  {
   "cell_type": "code",
   "execution_count": 3,
   "metadata": {},
   "outputs": [],
   "source": [
    "num_labels = 1\n",
    "vocab_size = 40000\n",
    "vocab_size_c = 20000\n",
    "batch_size = 100\n",
    "lstm_size = 256\n",
    "maxlen = 100\n",
    "embedding_vector_length = 256"
   ]
  },
  {
   "cell_type": "code",
   "execution_count": 32,
   "metadata": {},
   "outputs": [],
   "source": [
    "def build_tokenizer():\n",
    "    df=pd.read_csv(extracted)\n",
    "    min_max_scaler = preprocessing.MinMaxScaler()\n",
    "    tokenizer = Tokenizer(num_words=vocab_size)\n",
    "    intent_train_dataset, intent_test_dataset = train_test_split(df, test_size=0.2, random_state = 42)\n",
    "    train_sentences_q = intent_train_dataset[\"question\"].values\n",
    "    test_sentences_q = intent_test_dataset[\"question\"].values\n",
    "    train_sentences_a = intent_train_dataset[\"answer\"].values\n",
    "    test_sentences_a = intent_test_dataset[\"answer\"].values\n",
    "    train_sentences_c = intent_train_dataset[\"comments\"].values\n",
    "    test_sentences_c = intent_test_dataset[\"comments\"].values\n",
    "    \n",
    "    tokenizer = Tokenizer(num_words=vocab_size)\n",
    "    tokenizer.fit_on_texts(train_sentences_q.astype(str))\n",
    "    train_q = tokenizer.texts_to_sequences(train_sentences_q.astype(str))\n",
    "    test_q = tokenizer.texts_to_sequences(test_sentences_q.astype(str))\n",
    "    train_q = sequence.pad_sequences(train_q, maxlen=maxlen)\n",
    "    test_q = sequence.pad_sequences(test_q, maxlen=maxlen)\n",
    "    \n",
    "    tokenizer = Tokenizer(num_words=vocab_size)\n",
    "    tokenizer.fit_on_texts(train_sentences_a.astype(str))\n",
    "    train_a = tokenizer.texts_to_sequences(train_sentences_a.astype(str))\n",
    "    test_a = tokenizer.texts_to_sequences(test_sentences_a.astype(str))\n",
    "    train_a = sequence.pad_sequences(train_a, maxlen=maxlen)\n",
    "    test_a = sequence.pad_sequences(test_a, maxlen=maxlen)\n",
    "    \n",
    "    tokenizer = Tokenizer(num_words=vocab_size_c)\n",
    "    tokenizer.fit_on_texts(train_sentences_c.astype(str))\n",
    "    train_c = tokenizer.texts_to_sequences(train_sentences_c.astype(str))\n",
    "    test_c = tokenizer.texts_to_sequences(test_sentences_c.astype(str))\n",
    "    train_c = sequence.pad_sequences(train_c, maxlen=maxlen)\n",
    "    test_c = sequence.pad_sequences(test_c, maxlen=maxlen)\n",
    "    \n",
    "    train_other = min_max_scaler.fit_transform(intent_train_dataset[[\"votes\", \"num_answers\", \"state\", \"comment_number\", \"answer_time\"]])\n",
    "    test_other = min_max_scaler.fit_transform(intent_test_dataset[[\"votes\", \"num_answers\", \"state\", \"comment_number\", \"answer_time\"]])\n",
    "    \n",
    "    y_train=intent_train_dataset[\"is_best_answer\"].values\n",
    "    y_test=intent_test_dataset[\"is_best_answer\"].values\n",
    "    \n",
    "    with open(train_final, 'wb') as f:\n",
    "        pickle.dump((train_q, train_a, train_c, train_other, y_train), f)\n",
    "    with open(test_final, 'wb') as f:\n",
    "        pickle.dump((test_q, test_a, test_c, test_other, y_test), f)"
   ]
  },
  {
   "cell_type": "code",
   "execution_count": 34,
   "metadata": {},
   "outputs": [],
   "source": [
    "if __name__ == '__main__':\n",
    "    build_tokenizer()"
   ]
  },
  {
   "cell_type": "markdown",
   "metadata": {},
   "source": [
    "# Define a Keras Model with 4 inputs and 1 output \n",
    "First embedding all 3 texts  \n",
    "Then apply lstm,   \n",
    "Then add auxiliary input,  \n",
    "Then stack all the 4 inputs to new layer 2 times.  \n",
    "Then define new Keras Model with adam optimizer  \n",
    "We use AUC Curve to test the model."
   ]
  },
  {
   "cell_type": "code",
   "execution_count": 5,
   "metadata": {},
   "outputs": [],
   "source": [
    "def build_embedding_lstm_model():\n",
    "    #Define text inputs \n",
    "    main_input1 = Input(shape=(maxlen,), dtype='int32', name='main_input1')\n",
    "    main_input2 = Input(shape=(maxlen,), dtype='int32', name='main_input2')\n",
    "    main_input3 = Input(shape=(maxlen,), dtype='int32', name='main_input3')\n",
    "\n",
    "    #Embedding & LSTM\n",
    "    x1 = Embedding(output_dim=256, input_dim=vocab_size, input_length=maxlen)(main_input1)\n",
    "    x2 = Embedding(output_dim=256, input_dim=vocab_size, input_length=maxlen)(main_input2)\n",
    "    x3 = Embedding(output_dim=256, input_dim=vocab_size_c, input_length=maxlen)(main_input3)\n",
    "    x=Concatenate()([x1,x2,x3])\n",
    "    \n",
    "    lstm_out = LSTM(lstm_size)(x)\n",
    "    \n",
    "    #Combine all 4 inputs\n",
    "    auxiliary_input = Input(shape=(5,), name='aux_input')\n",
    "    x = keras.layers.concatenate([lstm_out, auxiliary_input])\n",
    "\n",
    "    # Stack all layers\n",
    "    x = Dense(64, activation='relu')(x)\n",
    "    x = Dense(64, activation='relu')(x)\n",
    "    \n",
    "    # Add output defination\n",
    "    main_output = Dense(1, activation='sigmoid', name='main_output')(x)\n",
    "    \n",
    "    #Define Model\n",
    "    model = Model(inputs=[main_input1, main_input2, main_input3, auxiliary_input], outputs=main_output)\n",
    "    optimizer = Adam(lr=0.001, beta_1=0.9, beta_2=0.999, amsgrad=False)\n",
    "    model.compile(optimizer=optimizer, loss='binary_crossentropy',metrics=['accuracy'])\n",
    "    model.summary()\n",
    "    return model"
   ]
  },
  {
   "cell_type": "code",
   "execution_count": 6,
   "metadata": {},
   "outputs": [],
   "source": [
    "def model_apply(model_path, epo=10, val=0.1):\n",
    "    model=build_embedding_lstm_model()\n",
    "    with open(train_final, 'rb') as f:\n",
    "        train_q, train_a, train_c, train_other, y_train = pickle.load(f)\n",
    "    model.fit([train_q, train_a, train_c, train_other], y_train, epochs=epo, batch_size=batch_size, verbose=1,\n",
    "                    validation_split=val)\n",
    "    model.save(model_path)"
   ]
  },
  {
   "cell_type": "code",
   "execution_count": 32,
   "metadata": {},
   "outputs": [],
   "source": [
    " def test_model(model_path, train_num=20000):\n",
    "    model = load_model(model_path)\n",
    "    with open(test_final, 'rb') as f:\n",
    "         test_q, test_a, test_c, test_other, y_test = pickle.load(f)\n",
    "    pred = model.predict([test_q, test_a, test_c, test_other])\n",
    "    with open(train_final, 'rb') as f:\n",
    "         train_q, train_a, train_c, train_other, y_train = pickle.load(f)\n",
    "    pred_train = model.predict([train_q[:train_num], train_a[:train_num], train_c[:train_num], train_other[:train_num]])\n",
    "    fpr,tpr,threshold = roc_curve(y_train[:train_num], pred_train) ###caculate false positive and true positive\n",
    "    fpr_p,tpr_p,threshold_p = roc_curve(y_test, pred)\n",
    "    roc_auc = auc(fpr,tpr) ###caculate auc\n",
    "    roc_auc_p = auc(fpr_p,tpr_p)\n",
    "    plt.figure()\n",
    "    lw = 2\n",
    "    plt.figure(figsize=(10,10))\n",
    "    plt.plot(fpr, tpr, label='train (area = %0.2f)' % roc_auc) ###\n",
    "    plt.plot(fpr_p, tpr_p, label='test (area = %0.2f)' % roc_auc_p) ###\n",
    "    plt.plot([0, 1], [0, 1], color='navy', lw=lw, linestyle='--')\n",
    "    plt.xlim([0.0, 1.0])\n",
    "    plt.ylim([0.0, 1.05])\n",
    "    plt.xlabel('False Positive Rate')\n",
    "    plt.ylabel('True Positive Rate')\n",
    "    plt.title('ROC Curve')\n",
    "    plt.legend(loc=\"lower right\")\n",
    "    plt.show()\n",
    "    return pred"
   ]
  },
  {
   "cell_type": "markdown",
   "metadata": {},
   "source": [
    "# Start Build Model\n",
    "we start with 8 epochs and validation on 12.5% of the whole data"
   ]
  },
  {
   "cell_type": "code",
   "execution_count": 24,
   "metadata": {
    "scrolled": false
   },
   "outputs": [
    {
     "name": "stdout",
     "output_type": "stream",
     "text": [
      "Model: \"model_5\"\n",
      "__________________________________________________________________________________________________\n",
      "Layer (type)                    Output Shape         Param #     Connected to                     \n",
      "==================================================================================================\n",
      "main_input1 (InputLayer)        (None, 100)          0                                            \n",
      "__________________________________________________________________________________________________\n",
      "main_input2 (InputLayer)        (None, 100)          0                                            \n",
      "__________________________________________________________________________________________________\n",
      "main_input3 (InputLayer)        (None, 100)          0                                            \n",
      "__________________________________________________________________________________________________\n",
      "embedding_13 (Embedding)        (None, 100, 256)     10240000    main_input1[0][0]                \n",
      "__________________________________________________________________________________________________\n",
      "embedding_14 (Embedding)        (None, 100, 256)     10240000    main_input2[0][0]                \n",
      "__________________________________________________________________________________________________\n",
      "embedding_15 (Embedding)        (None, 100, 256)     5120000     main_input3[0][0]                \n",
      "__________________________________________________________________________________________________\n",
      "concatenate_9 (Concatenate)     (None, 100, 768)     0           embedding_13[0][0]               \n",
      "                                                                 embedding_14[0][0]               \n",
      "                                                                 embedding_15[0][0]               \n",
      "__________________________________________________________________________________________________\n",
      "lstm_5 (LSTM)                   (None, 256)          1049600     concatenate_9[0][0]              \n",
      "__________________________________________________________________________________________________\n",
      "aux_input (InputLayer)          (None, 5)            0                                            \n",
      "__________________________________________________________________________________________________\n",
      "concatenate_10 (Concatenate)    (None, 261)          0           lstm_5[0][0]                     \n",
      "                                                                 aux_input[0][0]                  \n",
      "__________________________________________________________________________________________________\n",
      "dense_9 (Dense)                 (None, 64)           16768       concatenate_10[0][0]             \n",
      "__________________________________________________________________________________________________\n",
      "dense_10 (Dense)                (None, 64)           4160        dense_9[0][0]                    \n",
      "__________________________________________________________________________________________________\n",
      "main_output (Dense)             (None, 1)            65          dense_10[0][0]                   \n",
      "==================================================================================================\n",
      "Total params: 26,670,593\n",
      "Trainable params: 26,670,593\n",
      "Non-trainable params: 0\n",
      "__________________________________________________________________________________________________\n"
     ]
    },
    {
     "name": "stderr",
     "output_type": "stream",
     "text": [
      "/Library/Frameworks/Python.framework/Versions/3.6/lib/python3.6/site-packages/tensorflow_core/python/framework/indexed_slices.py:433: UserWarning: Converting sparse IndexedSlices to a dense Tensor of unknown shape. This may consume a large amount of memory.\n",
      "  \"Converting sparse IndexedSlices to a dense Tensor of unknown shape. \"\n"
     ]
    },
    {
     "name": "stdout",
     "output_type": "stream",
     "text": [
      "Train on 229796 samples, validate on 32828 samples\n",
      "Epoch 1/8\n",
      "229796/229796 [==============================] - 5367s 23ms/step - loss: 0.2167 - accuracy: 0.9308 - val_loss: 0.2043 - val_accuracy: 0.9348\n",
      "Epoch 2/8\n",
      "229796/229796 [==============================] - 5515s 24ms/step - loss: 0.1898 - accuracy: 0.9349 - val_loss: 0.2041 - val_accuracy: 0.9344\n",
      "Epoch 3/8\n",
      "229796/229796 [==============================] - 5534s 24ms/step - loss: 0.1600 - accuracy: 0.9426 - val_loss: 0.2269 - val_accuracy: 0.9322\n",
      "Epoch 4/8\n",
      "229796/229796 [==============================] - 5514s 24ms/step - loss: 0.1224 - accuracy: 0.9557 - val_loss: 0.2799 - val_accuracy: 0.9190\n",
      "Epoch 5/8\n",
      "229796/229796 [==============================] - 5475s 24ms/step - loss: 0.0876 - accuracy: 0.9686 - val_loss: 0.3737 - val_accuracy: 0.9139\n",
      "Epoch 6/8\n",
      "229796/229796 [==============================] - 5406s 24ms/step - loss: 0.0611 - accuracy: 0.9784 - val_loss: 0.4656 - val_accuracy: 0.9087\n",
      "Epoch 7/8\n",
      "229796/229796 [==============================] - 4962s 22ms/step - loss: 0.0426 - accuracy: 0.9850 - val_loss: 0.5647 - val_accuracy: 0.9016\n",
      "Epoch 8/8\n",
      "229796/229796 [==============================] - 5162s 22ms/step - loss: 0.0302 - accuracy: 0.9895 - val_loss: 0.6200 - val_accuracy: 0.8998\n"
     ]
    }
   ],
   "source": [
    "model_apply(model_path=\"QA/model1.h5\", epo=8, val=0.125)"
   ]
  },
  {
   "cell_type": "code",
   "execution_count": 33,
   "metadata": {
    "scrolled": false
   },
   "outputs": [
    {
     "name": "stderr",
     "output_type": "stream",
     "text": [
      "/opt/anaconda3/lib/python3.7/site-packages/tensorflow_core/python/framework/indexed_slices.py:433: UserWarning: Converting sparse IndexedSlices to a dense Tensor of unknown shape. This may consume a large amount of memory.\n",
      "  \"Converting sparse IndexedSlices to a dense Tensor of unknown shape. \"\n"
     ]
    },
    {
     "data": {
      "text/plain": [
       "<Figure size 432x288 with 0 Axes>"
      ]
     },
     "metadata": {},
     "output_type": "display_data"
    },
    {
     "data": {
      "image/png": "[encoded data removed]",
      "text/plain": [
       "<Figure size 720x720 with 1 Axes>"
      ]
     },
     "metadata": {
      "needs_background": "light"
     },
     "output_type": "display_data"
    }
   ],
   "source": [
    "pred=test_model(model_path=\"QA/model1.h5\")"
   ]
  },
  {
   "cell_type": "markdown",
   "metadata": {},
   "source": [
    "# Overfitted solution 1 (Reduce epochs)\n",
    "The model now is obviously overfitted, so we checked the validation loss, the first epo and 2nd have the lowest loss, so we train new model with lower epochs."
   ]
  },
  {
   "cell_type": "code",
   "execution_count": 18,
   "metadata": {
    "scrolled": false
   },
   "outputs": [
    {
     "name": "stdout",
     "output_type": "stream",
     "text": [
      "Model: \"model_2\"\n",
      "__________________________________________________________________________________________________\n",
      "Layer (type)                    Output Shape         Param #     Connected to                     \n",
      "==================================================================================================\n",
      "main_input1 (InputLayer)        (None, 100)          0                                            \n",
      "__________________________________________________________________________________________________\n",
      "main_input2 (InputLayer)        (None, 100)          0                                            \n",
      "__________________________________________________________________________________________________\n",
      "main_input3 (InputLayer)        (None, 100)          0                                            \n",
      "__________________________________________________________________________________________________\n",
      "embedding_4 (Embedding)         (None, 100, 256)     10240000    main_input1[0][0]                \n",
      "__________________________________________________________________________________________________\n",
      "embedding_5 (Embedding)         (None, 100, 256)     10240000    main_input2[0][0]                \n",
      "__________________________________________________________________________________________________\n",
      "embedding_6 (Embedding)         (None, 100, 256)     5120000     main_input3[0][0]                \n",
      "__________________________________________________________________________________________________\n",
      "concatenate_3 (Concatenate)     (None, 100, 768)     0           embedding_4[0][0]                \n",
      "                                                                 embedding_5[0][0]                \n",
      "                                                                 embedding_6[0][0]                \n",
      "__________________________________________________________________________________________________\n",
      "lstm_2 (LSTM)                   (None, 256)          1049600     concatenate_3[0][0]              \n",
      "__________________________________________________________________________________________________\n",
      "aux_input (InputLayer)          (None, 5)            0                                            \n",
      "__________________________________________________________________________________________________\n",
      "concatenate_4 (Concatenate)     (None, 261)          0           lstm_2[0][0]                     \n",
      "                                                                 aux_input[0][0]                  \n",
      "__________________________________________________________________________________________________\n",
      "dense_3 (Dense)                 (None, 64)           16768       concatenate_4[0][0]              \n",
      "__________________________________________________________________________________________________\n",
      "dense_4 (Dense)                 (None, 64)           4160        dense_3[0][0]                    \n",
      "__________________________________________________________________________________________________\n",
      "main_output (Dense)             (None, 1)            65          dense_4[0][0]                    \n",
      "==================================================================================================\n",
      "Total params: 26,670,593\n",
      "Trainable params: 26,670,593\n",
      "Non-trainable params: 0\n",
      "__________________________________________________________________________________________________\n"
     ]
    },
    {
     "name": "stderr",
     "output_type": "stream",
     "text": [
      "/opt/anaconda3/lib/python3.7/site-packages/tensorflow_core/python/framework/indexed_slices.py:433: UserWarning: Converting sparse IndexedSlices to a dense Tensor of unknown shape. This may consume a large amount of memory.\n",
      "  \"Converting sparse IndexedSlices to a dense Tensor of unknown shape. \"\n"
     ]
    },
    {
     "name": "stdout",
     "output_type": "stream",
     "text": [
      "Train on 210099 samples, validate on 52525 samples\n",
      "Epoch 1/2\n",
      "210099/210099 [==============================] - 5195s 25ms/step - loss: 0.2219 - accuracy: 0.9301 - val_loss: 0.2124 - val_accuracy: 0.9328\n",
      "Epoch 2/2\n",
      "210099/210099 [==============================] - 4149s 20ms/step - loss: 0.1946 - accuracy: 0.9344 - val_loss: 0.2158 - val_accuracy: 0.9321\n"
     ]
    }
   ],
   "source": [
    "model_apply(model_path=\"QA/model2.h5\", epo=2, val=0.2)"
   ]
  },
  {
   "cell_type": "code",
   "execution_count": 34,
   "metadata": {},
   "outputs": [
    {
     "name": "stderr",
     "output_type": "stream",
     "text": [
      "/opt/anaconda3/lib/python3.7/site-packages/tensorflow_core/python/framework/indexed_slices.py:433: UserWarning: Converting sparse IndexedSlices to a dense Tensor of unknown shape. This may consume a large amount of memory.\n",
      "  \"Converting sparse IndexedSlices to a dense Tensor of unknown shape. \"\n"
     ]
    },
    {
     "data": {
      "text/plain": [
       "<Figure size 432x288 with 0 Axes>"
      ]
     },
     "metadata": {},
     "output_type": "display_data"
    },
    {
     "data": {
      "image/png": "[encoded data removed]",
      "text/plain": [
       "<Figure size 720x720 with 1 Axes>"
      ]
     },
     "metadata": {
      "needs_background": "light"
     },
     "output_type": "display_data"
    }
   ],
   "source": [
    "pred=test_model(model_path=\"QA/model2.h5\")"
   ]
  },
  {
   "cell_type": "markdown",
   "metadata": {},
   "source": [
    "# Overfit Solution 2 (Keep reducing)\n",
    "The new model is still somewhat overfitted, we keep making epochs lower"
   ]
  },
  {
   "cell_type": "code",
   "execution_count": 8,
   "metadata": {},
   "outputs": [
    {
     "name": "stdout",
     "output_type": "stream",
     "text": [
      "Model: \"model_1\"\n",
      "__________________________________________________________________________________________________\n",
      "Layer (type)                    Output Shape         Param #     Connected to                     \n",
      "==================================================================================================\n",
      "main_input1 (InputLayer)        (None, 100)          0                                            \n",
      "__________________________________________________________________________________________________\n",
      "main_input2 (InputLayer)        (None, 100)          0                                            \n",
      "__________________________________________________________________________________________________\n",
      "main_input3 (InputLayer)        (None, 100)          0                                            \n",
      "__________________________________________________________________________________________________\n",
      "embedding_1 (Embedding)         (None, 100, 256)     10240000    main_input1[0][0]                \n",
      "__________________________________________________________________________________________________\n",
      "embedding_2 (Embedding)         (None, 100, 256)     10240000    main_input2[0][0]                \n",
      "__________________________________________________________________________________________________\n",
      "embedding_3 (Embedding)         (None, 100, 256)     5120000     main_input3[0][0]                \n",
      "__________________________________________________________________________________________________\n",
      "concatenate_1 (Concatenate)     (None, 100, 768)     0           embedding_1[0][0]                \n",
      "                                                                 embedding_2[0][0]                \n",
      "                                                                 embedding_3[0][0]                \n",
      "__________________________________________________________________________________________________\n",
      "lstm_1 (LSTM)                   (None, 256)          1049600     concatenate_1[0][0]              \n",
      "__________________________________________________________________________________________________\n",
      "aux_input (InputLayer)          (None, 5)            0                                            \n",
      "__________________________________________________________________________________________________\n",
      "concatenate_2 (Concatenate)     (None, 261)          0           lstm_1[0][0]                     \n",
      "                                                                 aux_input[0][0]                  \n",
      "__________________________________________________________________________________________________\n",
      "dense_1 (Dense)                 (None, 64)           16768       concatenate_2[0][0]              \n",
      "__________________________________________________________________________________________________\n",
      "dense_2 (Dense)                 (None, 64)           4160        dense_1[0][0]                    \n",
      "__________________________________________________________________________________________________\n",
      "main_output (Dense)             (None, 1)            65          dense_2[0][0]                    \n",
      "==================================================================================================\n",
      "Total params: 26,670,593\n",
      "Trainable params: 26,670,593\n",
      "Non-trainable params: 0\n",
      "__________________________________________________________________________________________________\n"
     ]
    },
    {
     "name": "stderr",
     "output_type": "stream",
     "text": [
      "/opt/anaconda3/lib/python3.7/site-packages/tensorflow_core/python/framework/indexed_slices.py:433: UserWarning: Converting sparse IndexedSlices to a dense Tensor of unknown shape. This may consume a large amount of memory.\n",
      "  \"Converting sparse IndexedSlices to a dense Tensor of unknown shape. \"\n"
     ]
    },
    {
     "name": "stdout",
     "output_type": "stream",
     "text": [
      "Train on 229796 samples, validate on 32828 samples\n",
      "Epoch 1/1\n",
      "229796/229796 [==============================] - 6482s 28ms/step - loss: 0.2182 - accuracy: 0.9306 - val_loss: 0.2045 - val_accuracy: 0.9333\n"
     ]
    }
   ],
   "source": [
    "model_apply(model_path=\"QA/model3.h5\", epo=1, val=0.125)"
   ]
  },
  {
   "cell_type": "code",
   "execution_count": 35,
   "metadata": {},
   "outputs": [
    {
     "name": "stderr",
     "output_type": "stream",
     "text": [
      "/opt/anaconda3/lib/python3.7/site-packages/tensorflow_core/python/framework/indexed_slices.py:433: UserWarning: Converting sparse IndexedSlices to a dense Tensor of unknown shape. This may consume a large amount of memory.\n",
      "  \"Converting sparse IndexedSlices to a dense Tensor of unknown shape. \"\n"
     ]
    },
    {
     "data": {
      "text/plain": [
       "<Figure size 432x288 with 0 Axes>"
      ]
     },
     "metadata": {},
     "output_type": "display_data"
    },
    {
     "data": {
      "image/png": "[encoded data removed]",
      "text/plain": [
       "<Figure size 720x720 with 1 Axes>"
      ]
     },
     "metadata": {
      "needs_background": "light"
     },
     "output_type": "display_data"
    }
   ],
   "source": [
    "pred=test_model(model_path=\"QA/model3.h5\")"
   ]
  },
  {
   "cell_type": "markdown",
   "metadata": {},
   "source": [
    "# This will be my final model, with a Train AUC of 0.85 and test AUC of 0.81."
   ]
  },
  {
   "cell_type": "code",
   "execution_count": null,
   "metadata": {},
   "outputs": [],
   "source": []
  }
 ],
 "metadata": {
  "kernelspec": {
   "display_name": "Python 3",
   "language": "python",
   "name": "python3"
  },
  "language_info": {
   "codemirror_mode": {
    "name": "ipython",
    "version": 3
   },
   "file_extension": ".py",
   "mimetype": "text/x-python",
   "name": "python",
   "nbconvert_exporter": "python",
   "pygments_lexer": "ipython3",
   "version": "3.7.4"
  }
 },
 "nbformat": 4,
 "nbformat_minor": 2
}
